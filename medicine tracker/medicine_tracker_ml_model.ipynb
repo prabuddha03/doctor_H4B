{
 "cells": [
  {
   "cell_type": "code",
   "execution_count": 2,
   "metadata": {},
   "outputs": [
    {
     "name": "stderr",
     "output_type": "stream",
     "text": [
      "2023-07-10 13:51:40.414 \n",
      "  \u001b[33m\u001b[1mWarning:\u001b[0m to view this Streamlit app on a browser, run it with the following\n",
      "  command:\n",
      "\n",
      "    streamlit run /Users/rounaksarkar/Library/Python/3.11/lib/python/site-packages/ipykernel_launcher.py [ARGUMENTS]\n"
     ]
    }
   ],
   "source": [
    "import pandas as pd\n",
    "from sklearn.metrics.pairwise import cosine_similarity\n",
    "import streamlit as st\n",
    "\n",
    "# Load the dataset\n",
    "df = pd.read_csv('medicines.csv')\n",
    "\n",
    "# Preprocess the dataset\n",
    "# ...\n",
    "\n",
    "# Define the similarity metric\n",
    "def similarity(x, y):\n",
    "    # Compute the cosine similarity between the composition and effectiveness vectors\n",
    "    return cosine_similarity([x['composition'] + x['effectiveness']], [y['composition'] + y['effectiveness']])[0][0]\n",
    "\n",
    "# Build the recommendation system\n",
    "def recommend(medicine):\n",
    "    # Find the most similar medicines\n",
    "    similarities = df.apply(lambda x: similarity(x, medicine), axis=1)\n",
    "    similar_medicines = df.loc[similarities.nlargest(10).index]\n",
    "\n",
    "    # Return the recommended medicines\n",
    "    return similar_medicines\n",
    "\n",
    "# Build the Streamlit app\n",
    "st.title('Medicine Recommender')\n",
    "\n",
    "# Add a search box for the medicine name\n",
    "medicine_name = st.text_input('Enter a medicine name')\n",
    "\n",
    "# Find the medicine in the dataset\n",
    "medicine = df.loc[df['name'] == medicine_name]\n",
    "\n",
    "# If the medicine is found, recommend similar medicines\n",
    "if not medicine.empty:\n",
    "    st.subheader('Recommended Medicines')\n",
    "    recommended_medicines = recommend(medicine)\n",
    "    for index, row in recommended_medicines.iterrows():\n",
    "        st.write(row['name'])\n",
    "else:\n",
    "    st.write('Medicine not found')"
   ]
  }
 ],
 "metadata": {
  "kernelspec": {
   "display_name": "Python 3",
   "language": "python",
   "name": "python3"
  },
  "language_info": {
   "codemirror_mode": {
    "name": "ipython",
    "version": 3
   },
   "file_extension": ".py",
   "mimetype": "text/x-python",
   "name": "python",
   "nbconvert_exporter": "python",
   "pygments_lexer": "ipython3",
   "version": "3.11.4"
  },
  "orig_nbformat": 4
 },
 "nbformat": 4,
 "nbformat_minor": 2
}
